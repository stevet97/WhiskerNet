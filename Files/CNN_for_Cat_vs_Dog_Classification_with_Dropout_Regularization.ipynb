{
  "nbformat": 4,
  "nbformat_minor": 0,
  "metadata": {
    "colab": {
      "provenance": []
    },
    "kernelspec": {
      "name": "python3",
      "display_name": "Python 3"
    },
    "language_info": {
      "name": "python"
    }
  },
  "cells": [
    {
      "cell_type": "markdown",
      "source": [
        "##Import Libraries"
      ],
      "metadata": {
        "id": "2rBC4ELERAR1"
      }
    },
    {
      "cell_type": "code",
      "execution_count": null,
      "metadata": {
        "id": "lMSlEJ4QPrn3"
      },
      "outputs": [],
      "source": [
        "import tensorflow as tf\n",
        "from tensorflow.keras.preprocessing.image import ImageDataGenerator\n",
        "from tensorflow.keras.applications import VGG16\n",
        "from tensorflow.keras.models import Sequential\n",
        "from tensorflow.keras.layers import Dense, Flatten, Dropout\n",
        "from tensorflow.keras.callbacks import EarlyStopping"
      ]
    },
    {
      "cell_type": "code",
      "source": [
        "print(tf.__version__)"
      ],
      "metadata": {
        "id": "Y74qSIJ5RHqD"
      },
      "execution_count": null,
      "outputs": []
    },
    {
      "cell_type": "markdown",
      "source": [
        "##Data Augmentation"
      ],
      "metadata": {
        "id": "h3mg3k7ARJ8Y"
      }
    },
    {
      "cell_type": "code",
      "source": [
        "#Data augmentation\n",
        "train_datagen = ImageDataGenerator(rescale=1./255,\n",
        "                                   shear_range=0.2,\n",
        "                                   zoom_range=0.3,\n",
        "                                   horizontal_flip=True,\n",
        "                                   rotation_range=50,\n",
        "                                   width_shift_range=0.2,\n",
        "                                   height_shift_range=0.2,\n",
        "                                   brightness_range=[0.8, 1.2], #Add brightness variation\n",
        "                                   fill_mode='nearest')\n",
        "\n",
        "training_set = train_datagen.flow_from_directory('dataset/training_set',\n",
        "                                                 target_size=(64, 64),\n",
        "                                                 batch_size=32,\n",
        "                                                 class_mode='binary')\n",
        "\n",
        "test_datagen = ImageDataGenerator(rescale=1./255)\n",
        "\n",
        "test_set = test_set = test_datagen.flow_from_directory(\n",
        "    'dataset/test_set',\n",
        "    target_size=(64, 64),\n",
        "    batch_size=32,\n",
        "    class_mode='binary'\n",
        ")"
      ],
      "metadata": {
        "id": "v73yIa0XRJUs"
      },
      "execution_count": null,
      "outputs": []
    },
    {
      "cell_type": "code",
      "source": [
        "train_datagen = ImageDataGenerator(rescale=1./255)\n",
        "test_set = train_datagen.flow_from_directory('dataset/test_set',\n",
        "                                                 target_size=(64, 64),\n",
        "                                                 batch_size=32,\n",
        "                                                 class_mode='binary')"
      ],
      "metadata": {
        "id": "-iMYeW-_RTPy"
      },
      "execution_count": null,
      "outputs": []
    },
    {
      "cell_type": "markdown",
      "source": [
        "##Load the pre-trained VGG16 model\n"
      ],
      "metadata": {
        "id": "MHswrJF3RdkG"
      }
    },
    {
      "cell_type": "code",
      "source": [
        "vgg16_base = VGG16(weights='imagenet',\n",
        "                   include_top=False,\n",
        "                   input_shape=(64, 64, 3)) #load the pre-trained VGG16 model without the top fully connected layers"
      ],
      "metadata": {
        "id": "b7ozPmZERcsi"
      },
      "execution_count": null,
      "outputs": []
    },
    {
      "cell_type": "markdown",
      "source": [
        "##Freeze the base model layers"
      ],
      "metadata": {
        "id": "Q-HBchqJRqNu"
      }
    },
    {
      "cell_type": "code",
      "source": [
        "vgg16_base.trainable = False #Freeze the base model layers so they are not updated during training"
      ],
      "metadata": {
        "id": "NkcGSN8PRnY3"
      },
      "execution_count": null,
      "outputs": []
    },
    {
      "cell_type": "markdown",
      "source": [
        "##Define the Sequential and VGG16 models"
      ],
      "metadata": {
        "id": "1MHLp73RR1MU"
      }
    },
    {
      "cell_type": "code",
      "source": [
        "#Define the Sequential model and add the VGG16 base model\n",
        "model = Sequential([\n",
        "    vgg16_base,\n",
        "    Flatten(),\n",
        "    Dense(128, activation='relu'),\n",
        "    Dropout(0.4),  # Adjusted dropout to 40% for regularization\n",
        "    Dense(1, activation='sigmoid')\n",
        "])"
      ],
      "metadata": {
        "id": "xvylyHbeRzDM"
      },
      "execution_count": null,
      "outputs": []
    },
    {
      "cell_type": "markdown",
      "source": [
        "##Compiling"
      ],
      "metadata": {
        "id": "Aqw2KZp3R7cV"
      }
    },
    {
      "cell_type": "code",
      "source": [
        "model.compile(optimizer=tf.keras.optimizers.Adam(learning_rate=1e-6),\n",
        "              loss='binary_crossentropy',\n",
        "              metrics=['accuracy']) #Compiling the model"
      ],
      "metadata": {
        "id": "xhPerE4bR-PR"
      },
      "execution_count": null,
      "outputs": []
    },
    {
      "cell_type": "markdown",
      "source": [
        "##Implement Early Stopping"
      ],
      "metadata": {
        "id": "KlxcnAaHSBlI"
      }
    },
    {
      "cell_type": "code",
      "source": [
        "early_stopping = EarlyStopping(\n",
        "    monitor='val_loss',   # Monitor validation loss\n",
        "    patience=3,           # Stop training after 3 epochs of no improvement\n",
        "    restore_best_weights=True  # Restore the best weights once training stops\n",
        ")"
      ],
      "metadata": {
        "id": "_xzxk5Y8SFeT"
      },
      "execution_count": null,
      "outputs": []
    },
    {
      "cell_type": "markdown",
      "source": [
        "##Import class weights to avoid imbalances"
      ],
      "metadata": {
        "id": "HXrv4A5LSHyC"
      }
    },
    {
      "cell_type": "code",
      "source": [
        "from sklearn.utils import class_weight\n",
        "import numpy as np\n",
        "\n",
        "# Get labels from the training set\n",
        "labels = training_set.classes\n",
        "\n",
        "# Compute class weights\n",
        "class_weights = class_weight.compute_class_weight(\n",
        "    class_weight='balanced',\n",
        "    classes=np.unique(labels),\n",
        "    y=labels\n",
        ")\n",
        "class_weights = dict(enumerate(class_weights))"
      ],
      "metadata": {
        "id": "ZWjwNGe5SPOe"
      },
      "execution_count": null,
      "outputs": []
    },
    {
      "cell_type": "markdown",
      "source": [
        "##Training the model"
      ],
      "metadata": {
        "id": "tls3OEiuSRuN"
      }
    },
    {
      "cell_type": "code",
      "source": [
        "model.fit(\n",
        "    training_set,\n",
        "    validation_data=test_set,\n",
        "    epochs=30,\n",
        "    callbacks=[early_stopping],\n",
        "    class_weight=class_weights #apply class wights if there is an imbalance\n",
        ")"
      ],
      "metadata": {
        "id": "T42Qsj-0ST8n"
      },
      "execution_count": null,
      "outputs": []
    },
    {
      "cell_type": "markdown",
      "source": [
        "##Making a single prediction"
      ],
      "metadata": {
        "id": "KvsEt05ySYpn"
      }
    },
    {
      "cell_type": "code",
      "source": [
        "import numpy as np\n",
        "from keras.preprocessing import image\n",
        "\n",
        "test_image = image.load_img('dataset/single_prediction/cat_dog_8.jpg', target_size=(64, 64))\n",
        "test_image = image.img_to_array(test_image)\n",
        "test_image = np.expand_dims(test_image, axis=0)  # Expand to match the batch size for the model\n",
        "test_image = test_image / 255.0  # Normalize the image"
      ],
      "metadata": {
        "id": "kmHbc1UmSbqA"
      },
      "execution_count": null,
      "outputs": []
    },
    {
      "cell_type": "code",
      "source": [
        "result = model.predict(test_image) #Make the prediction using the trained model"
      ],
      "metadata": {
        "id": "HwZz90v4Sems"
      },
      "execution_count": null,
      "outputs": []
    },
    {
      "cell_type": "markdown",
      "source": [
        "##Output prediction result"
      ],
      "metadata": {
        "id": "PiYVhV4KShev"
      }
    },
    {
      "cell_type": "code",
      "source": [
        "if result [0][0] > 0.5:\n",
        "    prediction = 'dog'\n",
        "else:\n",
        "    prediction = 'cat'"
      ],
      "metadata": {
        "id": "EqLs1HfJSjoQ"
      },
      "execution_count": null,
      "outputs": []
    },
    {
      "cell_type": "code",
      "source": [
        "print(prediction)"
      ],
      "metadata": {
        "id": "NaBEoL_dSmUs"
      },
      "execution_count": null,
      "outputs": []
    }
  ]
}
